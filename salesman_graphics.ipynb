{
 "cells": [
  {
   "cell_type": "code",
   "execution_count": null,
   "metadata": {
    "collapsed": false
   },
   "outputs": [],
   "source": [
    "%matplotlib inline\n",
    "import pandas as pd\n",
    "import matplotlib.pyplot as plt\n",
    "\n",
    "route = pd.read_csv(\"./mona_lisa_best_trip.csv\")"
   ]
  },
  {
   "cell_type": "code",
   "execution_count": null,
   "metadata": {
    "collapsed": false
   },
   "outputs": [],
   "source": [
    "route.duplicated(subset = 'location') \n"
   ]
  },
  {
   "cell_type": "code",
   "execution_count": null,
   "metadata": {
    "collapsed": false,
    "scrolled": false
   },
   "outputs": [],
   "source": [
    "\n",
    "pylab.rcParams['figure.figsize'] = (15, 15)\n",
    "mpl.rcParams['agg.path.chunksize'] = 10000\n",
    "fig = plt.scatter(route.loc[:,\"coordinate_x\"],route.loc[:, \"coordinate_y\"], s = 1)\n",
    "#plt.ylim((0,20000))\n",
    "#plt.xlim((0,20000))\n",
    "plt.show()\n"
   ]
  },
  {
   "cell_type": "code",
   "execution_count": null,
   "metadata": {
    "collapsed": false
   },
   "outputs": [],
   "source": [
    "%pylab inline\n",
    "pylab.rcParams['figure.figsize'] = (15, 15)\n",
    "mpl.rcParams['agg.path.chunksize'] = 10000\n",
    "fig = plt.plot(route.loc[:,\"coordinate_x\"],route.loc[:, \"coordinate_y\"], linewidth = .01)\n",
    "#plt.ylim((0,20000))\n",
    "#plt.xlim((0,20000))\n",
    "plt.show()"
   ]
  }
 ],
 "metadata": {
  "kernelspec": {
   "display_name": "Python 2",
   "language": "python",
   "name": "python2"
  },
  "language_info": {
   "codemirror_mode": {
    "name": "ipython",
    "version": 2
   },
   "file_extension": ".py",
   "mimetype": "text/x-python",
   "name": "python",
   "nbconvert_exporter": "python",
   "pygments_lexer": "ipython2",
   "version": "2.7.6"
  }
 },
 "nbformat": 4,
 "nbformat_minor": 1
}
